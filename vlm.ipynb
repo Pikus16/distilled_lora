{
 "cells": [
  {
   "cell_type": "code",
   "execution_count": null,
   "metadata": {},
   "outputs": [],
   "source": [
    "from transformers import Qwen2VLForConditionalGeneration, AutoTokenizer, AutoProcessor\n",
    "from qwen_vl_utils import process_vision_info\n",
    "import torch\n",
    "from glob import glob\n",
    "from PIL import Image\n",
    "import numpy as np\n",
    "import os\n",
    "from tqdm import tqdm\n",
    "import matplotlib.pyplot as plt\n",
    "import json"
   ]
  },
  {
   "cell_type": "code",
   "execution_count": null,
   "metadata": {},
   "outputs": [],
   "source": [
    "# default: Load the model on the available device(s)\n",
    "model = Qwen2VLForConditionalGeneration.from_pretrained(\n",
    "    \"Qwen/Qwen2-VL-7B-Instruct\", torch_dtype=\"auto\", device_map=\"auto\", cache_dir='/home/ben/.cache/huggingface/hub'\n",
    ")\n",
    "\n",
    "# We recommend enabling flash_attention_2 for better acceleration and memory saving, especially in multi-image and video scenarios.\n",
    "# model = Qwen2VLForConditionalGeneration.from_pretrained(\n",
    "#     \"Qwen/Qwen2-VL-7B-Instruct\",\n",
    "#     torch_dtype=torch.bfloat16,\n",
    "#     attn_implementation=\"flash_attention_2\",\n",
    "#     device_map=\"auto\",\n",
    "#     cache_dir='/home/ben/.cache/huggingface/hub'\n",
    "# )\n",
    "\n",
    "# default processer\n",
    "processor = AutoProcessor.from_pretrained(\"Qwen/Qwen2-VL-7B-Instruct\")"
   ]
  },
  {
   "cell_type": "code",
   "execution_count": 2,
   "metadata": {},
   "outputs": [],
   "source": [
    "MODEL_NAME = 'sdxl/lightning'\n",
    "LORA_MODELS = ['PE_BalloonStyle',\n",
    " 'ColoringBookAF',\n",
    " 'crayons_v1_sdxl',\n",
    " 'tintinia',\n",
    " 'papercut',\n",
    " 'pixel-art-xl',\n",
    " 'v5lcn']\n",
    "N_STEPS = [2,4,8]"
   ]
  },
  {
   "cell_type": "code",
   "execution_count": 5,
   "metadata": {},
   "outputs": [],
   "source": [
    "def create_message(img):\n",
    "    return {\n",
    "        \"role\": \"user\",\n",
    "        \"content\": [\n",
    "            {\n",
    "                \"type\": \"image\",\n",
    "                \"image\": img,\n",
    "            },\n",
    "            {\"type\": \"text\", \"text\": \"Does the image contain a balloon sculpture or object made of balloons? Answer with a single word, yes or no.\"},\n",
    "        ],\n",
    "    }\n",
    "\n",
    "def create_message_batches(images, batch_size=1):\n",
    "    messages = []\n",
    "    for i in range(0, len(images), batch_size):\n",
    "        batch = images[i:i+batch_size]\n",
    "        messages.append([create_message(img) for img in batch])\n",
    "    return messages"
   ]
  },
  {
   "cell_type": "code",
   "execution_count": 14,
   "metadata": {},
   "outputs": [],
   "source": [
    "def create_message(img, ref_img, prompt):\n",
    "    return {\n",
    "        \"role\": \"user\",\n",
    "        \"content\": [\n",
    "            {\n",
    "                \"type\": \"image\",\n",
    "                \"image\": ref_img,\n",
    "            },\n",
    "            {\n",
    "                \"type\": \"image\",\n",
    "                \"image\": img,\n",
    "            },\n",
    "            {\"type\": \"text\", \"text\": f'Both images are of {prompt}. The first image is the reference image of a balloon sculpture. Score how well the second image\\'s balloon sculpture matches the reference image on a scale of 1 to 5. After reasoning, give the final answer on a new line, with just the integer score.'},\n",
    "        ],\n",
    "    }\n",
    "\n",
    "def create_message_batches(images, ref_images, prompts, batch_size=1):\n",
    "    messages = []\n",
    "    for i in range(0, len(images), batch_size):\n",
    "        batch = images[i:i+batch_size]\n",
    "        messages.append([create_message(img, ref_images[i], prompts[i]) for img in batch])\n",
    "    return messages"
   ]
  },
  {
   "cell_type": "code",
   "execution_count": 34,
   "metadata": {},
   "outputs": [],
   "source": [
    "def inference(batch):\n",
    "    # Preparation for inference\n",
    "    text = processor.apply_chat_template(\n",
    "        batch, tokenize=False, add_generation_prompt=True\n",
    "    )\n",
    "    image_inputs, video_inputs = process_vision_info(batch)\n",
    "    if isinstance(text, str):\n",
    "        text = [text]\n",
    "    inputs = processor(\n",
    "        text=text,\n",
    "        images=image_inputs,\n",
    "        videos=video_inputs,\n",
    "        padding=True,\n",
    "        return_tensors=\"pt\",\n",
    "    )\n",
    "    inputs = inputs.to(\"cuda\")\n",
    "\n",
    "    # Inference: Generation of the output\n",
    "    generated_ids = model.generate(**inputs, max_new_tokens=128)\n",
    "    generated_ids_trimmed = [\n",
    "        out_ids[len(in_ids) :] for in_ids, out_ids in zip(inputs.input_ids, generated_ids)\n",
    "    ]\n",
    "    output_text = processor.batch_decode(\n",
    "        generated_ids_trimmed, skip_special_tokens=True, clean_up_tokenization_spaces=False\n",
    "    )\n",
    "    return output_text\n",
    "\n",
    "def run_all_inference(images, ref_images, prompts, batch_size=1):\n",
    "    outputs = []\n",
    "    message_batches = create_message_batches(images, ref_images, prompts, batch_size=batch_size)\n",
    "    for batch in tqdm(message_batches):\n",
    "        output_text = inference(batch)\n",
    "        outputs.extend(output_text)\n",
    "    return outputs\n",
    "\n",
    "def get_score_stats(outputs):\n",
    "    scores = []\n",
    "    for o in outputs:\n",
    "        o = int(o)\n",
    "        scores.append(o)\n",
    "    return float(np.mean(scores)), float(np.std(scores))"
   ]
  },
  {
   "cell_type": "code",
   "execution_count": null,
   "metadata": {},
   "outputs": [],
   "source": [
    "all_outputs = {}\n",
    "for lora_model in LORA_MODELS:\n",
    "    all_outputs[lora_model] = {}\n",
    "    with open(f'prompts/sdxl/{lora_model}.json', 'r') as f:\n",
    "        prompts = json.load(f)\n",
    "    ref_images = glob(f'images/{MODEL_NAME}/{lora_model}/regular/*.png')\n",
    "    \n",
    "    images = glob(f'images/{MODEL_NAME}/{lora_model}/pretrained/*.png')\n",
    "    all_outputs[lora_model]['pretrained'] = run_all_inference(images, ref_images, prompts, batch_size=1)\n",
    "\n",
    "    for n_steps in N_STEPS:    \n",
    "        images = glob(f'images/{MODEL_NAME}/{lora_model}/fast_{n_steps}/*.png')\n",
    "        all_outputs[lora_model][n_steps] = run_all_inference(images, ref_images, prompts, batch_size=1)"
   ]
  },
  {
   "cell_type": "code",
   "execution_count": null,
   "metadata": {},
   "outputs": [],
   "source": [
    "fig, axarr = plt.subplots(1, len(LORA_MODELS), figsize=(10, 10))\n",
    "\n",
    "for i, lora_model in enumerate(LORA_MODELS):\n",
    "    ax = axarr[i]\n",
    "    pretrained_score, pretrained_std = get_score_stats(all_outputs[lora_model]['pretrained'])\n",
    "    step_scores, step_std = [], []\n",
    "    for n_steps in N_STEPS:\n",
    "        score, std = get_score_stats(all_outputs[lora_model][n_steps])\n",
    "        step_scores.append(score)\n",
    "        step_std.append(std)\n",
    "    ax.plot(N_STEPS, step_scores, marker='o', label=MODEL_NAME)\n",
    "    ax.axhline(pretrained_score, color='r', linestyle='--', label='Pretrained')\n",
    "    ax.set_xlabel('Number of Steps')\n",
    "    ax.set_ylabel('Score')\n",
    "    ax.set_title(lora_model)\n",
    "    if i == 0:\n",
    "        ax.legend()"
   ]
  },
  {
   "cell_type": "code",
   "execution_count": 31,
   "metadata": {},
   "outputs": [],
   "source": [
    "js_outputs = {\n",
    "    MODEL_NAME: all_outputs\n",
    "}"
   ]
  },
  {
   "cell_type": "code",
   "execution_count": null,
   "metadata": {},
   "outputs": [],
   "source": []
  }
 ],
 "metadata": {
  "kernelspec": {
   "display_name": "base",
   "language": "python",
   "name": "python3"
  },
  "language_info": {
   "codemirror_mode": {
    "name": "ipython",
    "version": 3
   },
   "file_extension": ".py",
   "mimetype": "text/x-python",
   "name": "python",
   "nbconvert_exporter": "python",
   "pygments_lexer": "ipython3",
   "version": "3.12.2"
  }
 },
 "nbformat": 4,
 "nbformat_minor": 2
}
